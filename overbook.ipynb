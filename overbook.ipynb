{
  "nbformat": 4,
  "nbformat_minor": 0,
  "metadata": {
    "colab": {
      "name": "overbook.ipynb",
      "provenance": [],
      "collapsed_sections": []
    },
    "kernelspec": {
      "name": "python3",
      "display_name": "Python 3"
    }
  },
  "cells": [
    {
      "cell_type": "markdown",
      "metadata": {
        "id": "ZQOwoev1Luw7",
        "colab_type": "text"
      },
      "source": [
        "# 1 - O que é Overbooking?\n",
        "\n",
        "> Overbooking é uma expressão em inglês usada para designar quando uma empresa faz uma sobrevenda, ou seja, vende mais do que pode atender. É mais comum em companhias aéreas, mas também pode acontecer em hotéis, shows, eventos esportivos e até salões de beleza ou restaurantes que aceitam cupons pré-pagos.\n",
        "\n"
      ]
    },
    {
      "cell_type": "markdown",
      "metadata": {
        "id": "Ac_1sJBvM2f-",
        "colab_type": "text"
      },
      "source": [
        "# 2 - Input.\n",
        "\n",
        "*   Lugares disponíveis \n",
        "*   Probabilidade de ausencia\n",
        "*   Máximo de overbooking\n",
        "*   Valor da passagem\n",
        "*   Valor da multa\n",
        "\n"
      ]
    },
    {
      "cell_type": "markdown",
      "metadata": {
        "id": "8bNAYOw6Nuya",
        "colab_type": "text"
      },
      "source": [
        "3 - Output.\n",
        "* Tabela\n",
        "* Médias \n",
        "* Gráficos"
      ]
    },
    {
      "cell_type": "markdown",
      "metadata": {
        "id": "8iNc349Hy9bK",
        "colab_type": "text"
      },
      "source": [
        "# 4 - Código para simulação."
      ]
    },
    {
      "cell_type": "code",
      "metadata": {
        "id": "qMVZWce7POYn",
        "colab_type": "code",
        "colab": {}
      },
      "source": [
        "import random \n",
        "import pandas as pd\n",
        "import matplotlib.pyplot as plt\n",
        "plt.rcParams['figure.figsize'] = (12,6)\n",
        "\n",
        "def gerar_DataFrame(lugares, prob_ausencia, media_simula=True):\n",
        "  num_simula = 10000\n",
        "  max_over = 30\n",
        "  valor_p = 200\n",
        "  valor_m = -1000\n",
        "  totas_simulacoes = {\"totalVendido\": [],\"totalPresentes\": [],\"overbooking\": [], \n",
        "                \"arrecadadoNormal\": [],\"arrecadadoOver\": [],\"LiquidoOver\": [] ,\n",
        "                \"quantidadeOver\": []}\n",
        "  media_simulacoes = {\"QuantidadeOver\": [], \"LucroMedio\": []}\n",
        "\n",
        "  for qtd_over in range(max_over):\n",
        "    lucro = []\n",
        "    for i in range(num_simula):\n",
        "      total_presentes = 0\n",
        "      for j in range(1,lugares+qtd_over):\n",
        "        vl_random = random.uniform(0,1) \n",
        "        ausente = 0 if vl_random < prob_ausencia else 1\n",
        "        total_presentes += ausente\n",
        "      totas_simulacoes[\"totalVendido\"].append(lugares + qtd_over)\n",
        "      totas_simulacoes[\"totalPresentes\"].append(total_presentes)\n",
        "      totas_simulacoes[\"overbooking\"].append(total_presentes - lugares if total_presentes > lugares else 0)\n",
        "      totas_simulacoes[\"arrecadadoNormal\"].append(lugares*valor_p)\n",
        "      totas_simulacoes[\"arrecadadoOver\"].append((lugares+qtd_over)*valor_p)\n",
        "      totas_simulacoes[\"LiquidoOver\"].append((lugares+qtd_over)*valor_p + ((total_presentes - lugares) * valor_m if total_presentes > lugares else 0))\n",
        "      totas_simulacoes[\"quantidadeOver\"].append(qtd_over)\n",
        "      lucro.append((lugares+qtd_over)*valor_p + ((total_presentes - lugares) * valor_m if total_presentes > lugares else 0))\n",
        "    media_simulacoes[\"QuantidadeOver\"].append(qtd_over)\n",
        "    media_simulacoes[\"LucroMedio\"].append(sum(lucro)/len(lucro))\n",
        "\n",
        "  \n",
        "  if (media_simula):\n",
        "    return pd.DataFrame(media_simulacoes)\n",
        "  else:\n",
        "    return pd.DataFrame(totas_simulacoes)"
      ],
      "execution_count": 0,
      "outputs": []
    },
    {
      "cell_type": "markdown",
      "metadata": {
        "id": "07lkWrTpzLiO",
        "colab_type": "text"
      },
      "source": [
        "# 5 - Resultados.\n",
        "\n",
        "\n",
        "\n",
        "> Esses são alguns resultados gerados.\n",
        "\n",
        "### 5.1.1 Cabeçalho do Data Frame para primeira opção (120 lugares e 10% de probabilidade de não ir).\n",
        "\n"
      ]
    },
    {
      "cell_type": "code",
      "metadata": {
        "id": "gmOhdJLrawlM",
        "colab_type": "code",
        "outputId": "53012ac9-9e13-4885-e9de-8f4bc0a4c10c",
        "colab": {
          "base_uri": "https://localhost:8080/",
          "height": 204
        }
      },
      "source": [
        "data1 = gerar_DataFrame(120, 0.1, True)\n",
        "data1.head()"
      ],
      "execution_count": 0,
      "outputs": [
        {
          "output_type": "execute_result",
          "data": {
            "text/html": [
              "<div>\n",
              "<style scoped>\n",
              "    .dataframe tbody tr th:only-of-type {\n",
              "        vertical-align: middle;\n",
              "    }\n",
              "\n",
              "    .dataframe tbody tr th {\n",
              "        vertical-align: top;\n",
              "    }\n",
              "\n",
              "    .dataframe thead th {\n",
              "        text-align: right;\n",
              "    }\n",
              "</style>\n",
              "<table border=\"1\" class=\"dataframe\">\n",
              "  <thead>\n",
              "    <tr style=\"text-align: right;\">\n",
              "      <th></th>\n",
              "      <th>QuantidadeOver</th>\n",
              "      <th>LucroMedio</th>\n",
              "    </tr>\n",
              "  </thead>\n",
              "  <tbody>\n",
              "    <tr>\n",
              "      <th>0</th>\n",
              "      <td>0</td>\n",
              "      <td>24000.0</td>\n",
              "    </tr>\n",
              "    <tr>\n",
              "      <th>1</th>\n",
              "      <td>1</td>\n",
              "      <td>24200.0</td>\n",
              "    </tr>\n",
              "    <tr>\n",
              "      <th>2</th>\n",
              "      <td>2</td>\n",
              "      <td>24400.0</td>\n",
              "    </tr>\n",
              "    <tr>\n",
              "      <th>3</th>\n",
              "      <td>3</td>\n",
              "      <td>24599.9</td>\n",
              "    </tr>\n",
              "    <tr>\n",
              "      <th>4</th>\n",
              "      <td>4</td>\n",
              "      <td>24799.8</td>\n",
              "    </tr>\n",
              "  </tbody>\n",
              "</table>\n",
              "</div>"
            ],
            "text/plain": [
              "   QuantidadeOver  LucroMedio\n",
              "0               0     24000.0\n",
              "1               1     24200.0\n",
              "2               2     24400.0\n",
              "3               3     24599.9\n",
              "4               4     24799.8"
            ]
          },
          "metadata": {
            "tags": []
          },
          "execution_count": 5
        }
      ]
    },
    {
      "cell_type": "markdown",
      "metadata": {
        "id": "v56y9Sfxzysp",
        "colab_type": "text"
      },
      "source": [
        "###5.1.2 - Alguns valores importantes. "
      ]
    },
    {
      "cell_type": "code",
      "metadata": {
        "id": "dsnMY1tPc458",
        "colab_type": "code",
        "outputId": "2ce21c9f-4995-4a56-c567-145ebcdbd411",
        "colab": {
          "base_uri": "https://localhost:8080/",
          "height": 297
        }
      },
      "source": [
        "data1.describe()"
      ],
      "execution_count": 0,
      "outputs": [
        {
          "output_type": "execute_result",
          "data": {
            "text/html": [
              "<div>\n",
              "<style scoped>\n",
              "    .dataframe tbody tr th:only-of-type {\n",
              "        vertical-align: middle;\n",
              "    }\n",
              "\n",
              "    .dataframe tbody tr th {\n",
              "        vertical-align: top;\n",
              "    }\n",
              "\n",
              "    .dataframe thead th {\n",
              "        text-align: right;\n",
              "    }\n",
              "</style>\n",
              "<table border=\"1\" class=\"dataframe\">\n",
              "  <thead>\n",
              "    <tr style=\"text-align: right;\">\n",
              "      <th></th>\n",
              "      <th>QuantidadeOver</th>\n",
              "      <th>LucroMedio</th>\n",
              "    </tr>\n",
              "  </thead>\n",
              "  <tbody>\n",
              "    <tr>\n",
              "      <th>count</th>\n",
              "      <td>30.000000</td>\n",
              "      <td>30.000000</td>\n",
              "    </tr>\n",
              "    <tr>\n",
              "      <th>mean</th>\n",
              "      <td>14.500000</td>\n",
              "      <td>23231.030000</td>\n",
              "    </tr>\n",
              "    <tr>\n",
              "      <th>std</th>\n",
              "      <td>8.803408</td>\n",
              "      <td>2848.553064</td>\n",
              "    </tr>\n",
              "    <tr>\n",
              "      <th>min</th>\n",
              "      <td>0.000000</td>\n",
              "      <td>16581.500000</td>\n",
              "    </tr>\n",
              "    <tr>\n",
              "      <th>25%</th>\n",
              "      <td>7.250000</td>\n",
              "      <td>21597.075000</td>\n",
              "    </tr>\n",
              "    <tr>\n",
              "      <th>50%</th>\n",
              "      <td>14.500000</td>\n",
              "      <td>24435.250000</td>\n",
              "    </tr>\n",
              "    <tr>\n",
              "      <th>75%</th>\n",
              "      <td>21.750000</td>\n",
              "      <td>25363.325000</td>\n",
              "    </tr>\n",
              "    <tr>\n",
              "      <th>max</th>\n",
              "      <td>29.000000</td>\n",
              "      <td>25893.900000</td>\n",
              "    </tr>\n",
              "  </tbody>\n",
              "</table>\n",
              "</div>"
            ],
            "text/plain": [
              "       QuantidadeOver    LucroMedio\n",
              "count       30.000000     30.000000\n",
              "mean        14.500000  23231.030000\n",
              "std          8.803408   2848.553064\n",
              "min          0.000000  16581.500000\n",
              "25%          7.250000  21597.075000\n",
              "50%         14.500000  24435.250000\n",
              "75%         21.750000  25363.325000\n",
              "max         29.000000  25893.900000"
            ]
          },
          "metadata": {
            "tags": []
          },
          "execution_count": 6
        }
      ]
    },
    {
      "cell_type": "markdown",
      "metadata": {
        "id": "v5ATcHZW0U8r",
        "colab_type": "text"
      },
      "source": [
        "### 5.1.3 - Gráfico gerado apartir disso, ele mostra até onde é mais lucrativo vender passagens a mais."
      ]
    },
    {
      "cell_type": "code",
      "metadata": {
        "id": "4eQg55Ejd35b",
        "colab_type": "code",
        "outputId": "3e1dc939-dbb9-4f0c-dfc3-517b4ca0ef35",
        "colab": {
          "base_uri": "https://localhost:8080/",
          "height": 404
        }
      },
      "source": [
        "plt.plot(data1[\"QuantidadeOver\"], data1[\"LucroMedio\"])\n",
        "plt.xlabel('Passagens a mais')\n",
        "plt.ylabel('Lucro')\n",
        "plt.title('Gráfico de overbooking ideal',)\n",
        "plt.show()"
      ],
      "execution_count": 0,
      "outputs": [
        {
          "output_type": "display_data",
          "data": {
            "image/png": "[encoded data removed]",
            "text/plain": [
              "<Figure size 864x432 with 1 Axes>"
            ]
          },
          "metadata": {
            "tags": []
          }
        }
      ]
    },
    {
      "cell_type": "markdown",
      "metadata": {
        "id": "5g5DzlbK3vY4",
        "colab_type": "text"
      },
      "source": [
        "### 5.2.1 Cabeçalho do Data Frame para primeira opção (360 lugares e 5% de probabilidade de não ir).\n",
        "\n"
      ]
    },
    {
      "cell_type": "code",
      "metadata": {
        "id": "_hZ-SDgj3tFG",
        "colab_type": "code",
        "outputId": "1506dd9c-144a-4c13-e72e-bfa05eacbd4b",
        "colab": {
          "base_uri": "https://localhost:8080/",
          "height": 204
        }
      },
      "source": [
        "data2 = gerar_DataFrame(360, 0.05, True)\n",
        "data2.head()"
      ],
      "execution_count": 0,
      "outputs": [
        {
          "output_type": "execute_result",
          "data": {
            "text/html": [
              "<div>\n",
              "<style scoped>\n",
              "    .dataframe tbody tr th:only-of-type {\n",
              "        vertical-align: middle;\n",
              "    }\n",
              "\n",
              "    .dataframe tbody tr th {\n",
              "        vertical-align: top;\n",
              "    }\n",
              "\n",
              "    .dataframe thead th {\n",
              "        text-align: right;\n",
              "    }\n",
              "</style>\n",
              "<table border=\"1\" class=\"dataframe\">\n",
              "  <thead>\n",
              "    <tr style=\"text-align: right;\">\n",
              "      <th></th>\n",
              "      <th>QuantidadeOver</th>\n",
              "      <th>LucroMedio</th>\n",
              "    </tr>\n",
              "  </thead>\n",
              "  <tbody>\n",
              "    <tr>\n",
              "      <th>0</th>\n",
              "      <td>0</td>\n",
              "      <td>72000.0</td>\n",
              "    </tr>\n",
              "    <tr>\n",
              "      <th>1</th>\n",
              "      <td>1</td>\n",
              "      <td>72200.0</td>\n",
              "    </tr>\n",
              "    <tr>\n",
              "      <th>2</th>\n",
              "      <td>2</td>\n",
              "      <td>72400.0</td>\n",
              "    </tr>\n",
              "    <tr>\n",
              "      <th>3</th>\n",
              "      <td>3</td>\n",
              "      <td>72600.0</td>\n",
              "    </tr>\n",
              "    <tr>\n",
              "      <th>4</th>\n",
              "      <td>4</td>\n",
              "      <td>72800.0</td>\n",
              "    </tr>\n",
              "  </tbody>\n",
              "</table>\n",
              "</div>"
            ],
            "text/plain": [
              "   QuantidadeOver  LucroMedio\n",
              "0               0     72000.0\n",
              "1               1     72200.0\n",
              "2               2     72400.0\n",
              "3               3     72600.0\n",
              "4               4     72800.0"
            ]
          },
          "metadata": {
            "tags": []
          },
          "execution_count": 10
        }
      ]
    },
    {
      "cell_type": "markdown",
      "metadata": {
        "colab_type": "text",
        "id": "FJQmDQal4aa-"
      },
      "source": [
        "###5.2.2 - Alguns valores importantes. "
      ]
    },
    {
      "cell_type": "code",
      "metadata": {
        "id": "9IVJYm384Zn0",
        "colab_type": "code",
        "outputId": "7fe001e7-a50b-44a1-fee7-93cb5a65eaa5",
        "colab": {
          "base_uri": "https://localhost:8080/",
          "height": 297
        }
      },
      "source": [
        "data2.describe()"
      ],
      "execution_count": 0,
      "outputs": [
        {
          "output_type": "execute_result",
          "data": {
            "text/html": [
              "<div>\n",
              "<style scoped>\n",
              "    .dataframe tbody tr th:only-of-type {\n",
              "        vertical-align: middle;\n",
              "    }\n",
              "\n",
              "    .dataframe tbody tr th {\n",
              "        vertical-align: top;\n",
              "    }\n",
              "\n",
              "    .dataframe thead th {\n",
              "        text-align: right;\n",
              "    }\n",
              "</style>\n",
              "<table border=\"1\" class=\"dataframe\">\n",
              "  <thead>\n",
              "    <tr style=\"text-align: right;\">\n",
              "      <th></th>\n",
              "      <th>QuantidadeOver</th>\n",
              "      <th>LucroMedio</th>\n",
              "    </tr>\n",
              "  </thead>\n",
              "  <tbody>\n",
              "    <tr>\n",
              "      <th>count</th>\n",
              "      <td>30.000000</td>\n",
              "      <td>30.000000</td>\n",
              "    </tr>\n",
              "    <tr>\n",
              "      <th>mean</th>\n",
              "      <td>14.500000</td>\n",
              "      <td>73143.580000</td>\n",
              "    </tr>\n",
              "    <tr>\n",
              "      <th>std</th>\n",
              "      <td>8.803408</td>\n",
              "      <td>1504.949544</td>\n",
              "    </tr>\n",
              "    <tr>\n",
              "      <th>min</th>\n",
              "      <td>0.000000</td>\n",
              "      <td>69116.100000</td>\n",
              "    </tr>\n",
              "    <tr>\n",
              "      <th>25%</th>\n",
              "      <td>7.250000</td>\n",
              "      <td>72413.675000</td>\n",
              "    </tr>\n",
              "    <tr>\n",
              "      <th>50%</th>\n",
              "      <td>14.500000</td>\n",
              "      <td>73467.450000</td>\n",
              "    </tr>\n",
              "    <tr>\n",
              "      <th>75%</th>\n",
              "      <td>21.750000</td>\n",
              "      <td>74344.400000</td>\n",
              "    </tr>\n",
              "    <tr>\n",
              "      <th>max</th>\n",
              "      <td>29.000000</td>\n",
              "      <td>74825.900000</td>\n",
              "    </tr>\n",
              "  </tbody>\n",
              "</table>\n",
              "</div>"
            ],
            "text/plain": [
              "       QuantidadeOver    LucroMedio\n",
              "count       30.000000     30.000000\n",
              "mean        14.500000  73143.580000\n",
              "std          8.803408   1504.949544\n",
              "min          0.000000  69116.100000\n",
              "25%          7.250000  72413.675000\n",
              "50%         14.500000  73467.450000\n",
              "75%         21.750000  74344.400000\n",
              "max         29.000000  74825.900000"
            ]
          },
          "metadata": {
            "tags": []
          },
          "execution_count": 11
        }
      ]
    },
    {
      "cell_type": "markdown",
      "metadata": {
        "colab_type": "text",
        "id": "CmuASQgh5MPV"
      },
      "source": [
        "### 5.2.3 - Gráfico gerado apartir disso, ele mostra até onde é mais lucrativo vender passagens a mais."
      ]
    },
    {
      "cell_type": "code",
      "metadata": {
        "id": "f2yu9QHM5Wjt",
        "colab_type": "code",
        "outputId": "d61f9ef2-8942-4dd3-b830-2b25caf504dd",
        "colab": {
          "base_uri": "https://localhost:8080/",
          "height": 404
        }
      },
      "source": [
        "plt.plot(data2[\"QuantidadeOver\"], data2[\"LucroMedio\"])\n",
        "plt.xlabel('Passagens a mais')\n",
        "plt.ylabel('Lucro')\n",
        "plt.title('Gráfico de overbooking ideal',)\n",
        "plt.show()"
      ],
      "execution_count": 0,
      "outputs": [
        {
          "output_type": "display_data",
          "data": {
            "image/png": "[encoded data removed]",
            "text/plain": [
              "<Figure size 864x432 with 1 Axes>"
            ]
          },
          "metadata": {
            "tags": []
          }
        }
      ]
    }
  ]
}